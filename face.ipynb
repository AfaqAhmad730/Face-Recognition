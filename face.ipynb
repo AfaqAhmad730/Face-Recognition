{
 "cells": [
  {
   "cell_type": "code",
   "execution_count": 1,
   "id": "4e9b4980",
   "metadata": {},
   "outputs": [],
   "source": [
    "import os\n",
    "import cv2\n",
    "import numpy as np\n",
    "import face_recognition\n",
    "from sklearn import svm\n",
    "from sklearn.model_selection import train_test_split\n",
    "from sklearn.metrics import accuracy_score\n",
    "import pickle"
   ]
  },
  {
   "cell_type": "code",
   "execution_count": 2,
   "id": "86bdac24",
   "metadata": {},
   "outputs": [],
   "source": [
    "# Step 1: Load and prepare the data\n",
    "def load_images_from_folder(folder):\n",
    "    images = []\n",
    "    labels = []\n",
    "    for label in os.listdir(folder):\n",
    "        label_folder = os.path.join(folder, label)\n",
    "        if os.path.isdir(label_folder):\n",
    "            for filename in os.listdir(label_folder):\n",
    "                if not filename.lower().endswith('.avif'):  # Skip .avif files\n",
    "                    img_path = os.path.join(label_folder, filename)\n",
    "                    try:\n",
    "                        img = face_recognition.load_image_file(img_path)\n",
    "                        images.append(img)\n",
    "                        labels.append(label)\n",
    "                    except Exception as e:\n",
    "                        print(f\"Skipping file {img_path}: {e}\")\n",
    "    return images, labels"
   ]
  },
  {
   "cell_type": "code",
   "execution_count": 3,
   "id": "749099f6",
   "metadata": {},
   "outputs": [],
   "source": [
    "# Step 2: Face detection and feature extraction\n",
    "def extract_features(images):\n",
    "    face_encodings = []\n",
    "    for img in images:\n",
    "        # Assuming that each image contains only 1 face.\n",
    "        bbox = face_recognition.face_locations(img, model='hog')\n",
    "        if bbox:\n",
    "            face_encoding = face_recognition.face_encodings(img, known_face_locations=bbox)[0]\n",
    "            face_encodings.append(face_encoding)\n",
    "        else:\n",
    "            # Handle images with no detectable faces\n",
    "            face_encodings.append(None)\n",
    "    return face_encodings"
   ]
  },
  {
   "cell_type": "code",
   "execution_count": 4,
   "id": "9c2acf55",
   "metadata": {},
   "outputs": [],
   "source": [
    "# Step 3: Prepare training data\n",
    "def prepare_training_data(face_encodings, labels):\n",
    "    # Remove items with None (where no face was detected)\n",
    "    encodings = [f for f in face_encodings if f is not None]\n",
    "    labels = [labels[i] for i in range(len(face_encodings)) if face_encodings[i] is not None]\n",
    "    return encodings, labels"
   ]
  },
  {
   "cell_type": "code",
   "execution_count": 5,
   "id": "bf1b151e",
   "metadata": {},
   "outputs": [],
   "source": [
    "# Step 4: Train a classifier\n",
    "def train_classifier(encodings, labels):\n",
    "    clf = svm.SVC(gamma='scale')\n",
    "    clf.fit(encodings, labels)\n",
    "    return clf"
   ]
  },
  {
   "cell_type": "code",
   "execution_count": 6,
   "id": "b99663ef",
   "metadata": {},
   "outputs": [],
   "source": [
    "# Step 5: Evaluate the model\n",
    "def evaluate_model(clf, X_test, y_test):\n",
    "    y_pred = clf.predict(X_test)\n",
    "    return accuracy_score(y_test, y_pred)"
   ]
  },
  {
   "cell_type": "code",
   "execution_count": 7,
   "id": "2d457df0",
   "metadata": {},
   "outputs": [],
   "source": [
    "# Step 6: Model inference\n",
    "def recognize_face(clf, face_encoding):\n",
    "    return clf.predict([face_encoding])[0]"
   ]
  },
  {
   "cell_type": "code",
   "execution_count": 34,
   "id": "e46928ca",
   "metadata": {},
   "outputs": [],
   "source": [
    "# Function to save the model to a file\n",
    "def save_model(model, model_path):\n",
    "    with open(model_path, 'wb') as file:\n",
    "        pickle.dump(model, file)"
   ]
  },
  {
   "cell_type": "code",
   "execution_count": 8,
   "id": "78e11b61",
   "metadata": {},
   "outputs": [],
   "source": [
    "# Main workflow\n",
    "folder = 'FaceEngineDataset/image_database'\n",
    "images, labels = load_images_from_folder(folder)"
   ]
  },
  {
   "cell_type": "code",
   "execution_count": 9,
   "id": "06fc78f1",
   "metadata": {},
   "outputs": [],
   "source": [
    "face_encodings = extract_features(images)"
   ]
  },
  {
   "cell_type": "code",
   "execution_count": 13,
   "id": "89881c53",
   "metadata": {},
   "outputs": [],
   "source": [
    "encodings, labels = prepare_training_data(face_encodings, labels)"
   ]
  },
  {
   "cell_type": "code",
   "execution_count": 14,
   "id": "5c3750c9",
   "metadata": {},
   "outputs": [],
   "source": [
    "X_train, X_test, y_train, y_test = train_test_split(encodings, labels, test_size=0.25, random_state=42)"
   ]
  },
  {
   "cell_type": "code",
   "execution_count": 15,
   "id": "cb528ae9",
   "metadata": {},
   "outputs": [],
   "source": [
    "clf = train_classifier(X_train, y_train)"
   ]
  },
  {
   "cell_type": "code",
   "execution_count": 16,
   "id": "36a18f3c",
   "metadata": {},
   "outputs": [],
   "source": [
    "accuracy = evaluate_model(clf, X_test, y_test)"
   ]
  },
  {
   "cell_type": "code",
   "execution_count": 17,
   "id": "be580be6",
   "metadata": {},
   "outputs": [
    {
     "name": "stdout",
     "output_type": "stream",
     "text": [
      "Model accuracy: 0.6996197718631179\n"
     ]
    }
   ],
   "source": [
    "print(f'Model accuracy: {accuracy}')"
   ]
  },
  {
   "cell_type": "code",
   "execution_count": 31,
   "id": "23d99e96",
   "metadata": {},
   "outputs": [
    {
     "name": "stdout",
     "output_type": "stream",
     "text": [
      "Elon Musk\n"
     ]
    }
   ],
   "source": [
    "# Use the trained classifier for new predictions\n",
    "new_image = face_recognition.load_image_file('FaceEngineDataset/image_database/Elon Musk/download.jpg')\n",
    "new_face_encoding = face_recognition.face_encodings(new_image)[0]\n",
    "result = recognize_face(clf, new_face_encoding)\n",
    "print(result)"
   ]
  },
  {
   "cell_type": "code",
   "execution_count": 35,
   "id": "07d30227",
   "metadata": {},
   "outputs": [],
   "source": [
    "# After training the classifier, save it to a file\n",
    "model_path = 'face_recognition_model.pkl'  # Define your model save path\n",
    "save_model(clf, model_path)"
   ]
  },
  {
   "cell_type": "code",
   "execution_count": 33,
   "id": "d1d99d2f",
   "metadata": {},
   "outputs": [],
   "source": []
  },
  {
   "cell_type": "code",
   "execution_count": null,
   "id": "0d1d0362",
   "metadata": {},
   "outputs": [],
   "source": []
  }
 ],
 "metadata": {
  "kernelspec": {
   "display_name": "Python 3 (ipykernel)",
   "language": "python",
   "name": "python3"
  },
  "language_info": {
   "codemirror_mode": {
    "name": "ipython",
    "version": 3
   },
   "file_extension": ".py",
   "mimetype": "text/x-python",
   "name": "python",
   "nbconvert_exporter": "python",
   "pygments_lexer": "ipython3",
   "version": "3.10.13"
  }
 },
 "nbformat": 4,
 "nbformat_minor": 5
}
