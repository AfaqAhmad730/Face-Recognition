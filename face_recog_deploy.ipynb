{
 "cells": [
  {
   "cell_type": "code",
   "execution_count": 11,
   "id": "4cf30368",
   "metadata": {},
   "outputs": [],
   "source": [
    "import pickle\n",
    "import face_recognition"
   ]
  },
  {
   "cell_type": "code",
   "execution_count": 12,
   "id": "f7196d02",
   "metadata": {},
   "outputs": [],
   "source": [
    "# Function to load the model from a file\n",
    "def load_model(model_path):\n",
    "    with open(model_path, 'rb') as file:\n",
    "        return pickle.load(file)"
   ]
  },
  {
   "cell_type": "code",
   "execution_count": 13,
   "id": "3dc9cbbd",
   "metadata": {},
   "outputs": [],
   "source": [
    "# Step 6: Model inference\n",
    "def recognize_face(clf, face_encoding):\n",
    "    return clf.predict([face_encoding])[0]"
   ]
  },
  {
   "cell_type": "code",
   "execution_count": 15,
   "id": "83949c5b",
   "metadata": {},
   "outputs": [
    {
     "name": "stdout",
     "output_type": "stream",
     "text": [
      "Elon Musk\n"
     ]
    }
   ],
   "source": [
    "# Use the trained classifier for new predictions\n",
    "new_image = face_recognition.load_image_file('test/elon.jpg')\n",
    "new_face_encoding = face_recognition.face_encodings(new_image)[0]\n",
    "clf = load_model('face_recognition_model.pkl')\n",
    "result = recognize_face(clf, new_face_encoding)\n",
    "print(result)"
   ]
  },
  {
   "cell_type": "code",
   "execution_count": null,
   "id": "6ebaa5dc",
   "metadata": {},
   "outputs": [],
   "source": []
  },
  {
   "cell_type": "code",
   "execution_count": null,
   "id": "189af185",
   "metadata": {},
   "outputs": [],
   "source": []
  }
 ],
 "metadata": {
  "kernelspec": {
   "display_name": "Python 3 (ipykernel)",
   "language": "python",
   "name": "python3"
  },
  "language_info": {
   "codemirror_mode": {
    "name": "ipython",
    "version": 3
   },
   "file_extension": ".py",
   "mimetype": "text/x-python",
   "name": "python",
   "nbconvert_exporter": "python",
   "pygments_lexer": "ipython3",
   "version": "3.10.13"
  }
 },
 "nbformat": 4,
 "nbformat_minor": 5
}
